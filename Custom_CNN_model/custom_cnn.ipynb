{
 "cells": [
  {
   "cell_type": "code",
   "execution_count": 1,
   "metadata": {},
   "outputs": [],
   "source": [
    "%matplotlib inline\n",
    "import matplotlib.pyplot as plt\n",
    "from PIL import Image\n",
    "import numpy as np\n",
    "import math\n",
    "import copy\n",
    "import numpy as np\n",
    "\n",
    "from keras.models import Sequential, Model\n",
    "from keras.layers import Input, Dense, Flatten, Dropout, Activation, Lambda, Permute, Reshape\n",
    "from keras.layers import Convolution2D, ZeroPadding2D, MaxPooling2D\n",
    "from keras.preprocessing import image\n",
    "from keras.preprocessing.image import ImageDataGenerator\n",
    "\n",
    "from sklearn.datasets import load_files       \n",
    "from keras.utils import np_utils\n",
    "import numpy as np\n",
    "from glob import glob\n",
    "import pandas as pd\n",
    "import cv2\n",
    "import scipy.misc\n",
    "import matplotlib.pyplot as plt\n",
    "from tqdm import tqdm"
   ]
  },
  {
   "cell_type": "markdown",
   "metadata": {},
   "source": [
    "Augmented data"
   ]
  },
  {
   "cell_type": "code",
   "execution_count": 6,
   "metadata": {},
   "outputs": [
    {
     "name": "stdout",
     "output_type": "stream",
     "text": [
      "Found 100000 images belonging to 2 classes.\n",
      "Found 20000 images belonging to 2 classes.\n",
      "Found 20000 images belonging to 2 classes.\n"
     ]
    }
   ],
   "source": [
    "base_path = 'C:\\\\Users\\\\Deep\\\\Downloads\\\\Images\\\\archive\\\\real_vs_fake\\\\real-vs-fake'\n",
    "\n",
    "image_gen = ImageDataGenerator(rescale=1./255.,\n",
    "                               shear_range=0.2,\n",
    "                               zoom_range=0.2,\n",
    "                               horizontal_flip=True)\n",
    "batch_size = 32\n",
    "train_flow= image_gen.flow_from_directory(\n",
    "    base_path + '\\\\train\\\\',\n",
    "    target_size = (224, 224),\n",
    "    batch_size = batch_size,\n",
    "    class_mode ='binary'\n",
    ")\n",
    "\n",
    "\n",
    "image_gen1 = ImageDataGenerator(rescale=1./255.)\n",
    "valid_flow = image_gen1.flow_from_directory(\n",
    "    base_path + '\\\\valid\\\\',\n",
    "    target_size = (224, 224),\n",
    "    batch_size = batch_size,\n",
    "    class_mode = 'binary'\n",
    ")\n",
    "test_flow = image_gen1.flow_from_directory(\n",
    "    base_path + '\\\\test\\\\',\n",
    "    target_size = (224, 224),\n",
    "    batch_size = 1,\n",
    "    shuffle = False,\n",
    "    class_mode ='binary'\n",
    ")"
   ]
  },
  {
   "cell_type": "code",
   "execution_count": 9,
   "metadata": {},
   "outputs": [
    {
     "name": "stdout",
     "output_type": "stream",
     "text": [
      "Model: \"sequential_1\"\n",
      "_________________________________________________________________\n",
      " Layer (type)                Output Shape              Param #   \n",
      "=================================================================\n",
      " batch_normalization (BatchN  (None, 224, 224, 3)      12        \n",
      " ormalization)                                                   \n",
      "                                                                 \n",
      " conv2d (Conv2D)             (None, 224, 224, 16)      448       \n",
      "                                                                 \n",
      " max_pooling2d (MaxPooling2D  (None, 112, 112, 16)     0         \n",
      " )                                                               \n",
      "                                                                 \n",
      " batch_normalization_1 (Batc  (None, 112, 112, 16)     64        \n",
      " hNormalization)                                                 \n",
      "                                                                 \n",
      " conv2d_1 (Conv2D)           (None, 112, 112, 32)      4640      \n",
      "                                                                 \n",
      " max_pooling2d_1 (MaxPooling  (None, 56, 56, 32)       0         \n",
      " 2D)                                                             \n",
      "                                                                 \n",
      " batch_normalization_2 (Batc  (None, 56, 56, 32)       128       \n",
      " hNormalization)                                                 \n",
      "                                                                 \n",
      " dropout (Dropout)           (None, 56, 56, 32)        0         \n",
      "                                                                 \n",
      " conv2d_2 (Conv2D)           (None, 56, 56, 64)        18496     \n",
      "                                                                 \n",
      " max_pooling2d_2 (MaxPooling  (None, 28, 28, 64)       0         \n",
      " 2D)                                                             \n",
      "                                                                 \n",
      " batch_normalization_3 (Batc  (None, 28, 28, 64)       256       \n",
      " hNormalization)                                                 \n",
      "                                                                 \n",
      " dropout_1 (Dropout)         (None, 28, 28, 64)        0         \n",
      "                                                                 \n",
      " conv2d_3 (Conv2D)           (None, 28, 28, 128)       73856     \n",
      "                                                                 \n",
      " max_pooling2d_3 (MaxPooling  (None, 14, 14, 128)      0         \n",
      " 2D)                                                             \n",
      "                                                                 \n",
      " batch_normalization_4 (Batc  (None, 14, 14, 128)      512       \n",
      " hNormalization)                                                 \n",
      "                                                                 \n",
      " dropout_2 (Dropout)         (None, 14, 14, 128)       0         \n",
      "                                                                 \n",
      " conv2d_4 (Conv2D)           (None, 14, 14, 256)       295168    \n",
      "                                                                 \n",
      " max_pooling2d_4 (MaxPooling  (None, 7, 7, 256)        0         \n",
      " 2D)                                                             \n",
      "                                                                 \n",
      " batch_normalization_5 (Batc  (None, 7, 7, 256)        1024      \n",
      " hNormalization)                                                 \n",
      "                                                                 \n",
      " dropout_3 (Dropout)         (None, 7, 7, 256)         0         \n",
      "                                                                 \n",
      " conv2d_5 (Conv2D)           (None, 7, 7, 512)         1180160   \n",
      "                                                                 \n",
      " max_pooling2d_5 (MaxPooling  (None, 3, 3, 512)        0         \n",
      " 2D)                                                             \n",
      "                                                                 \n",
      " batch_normalization_6 (Batc  (None, 3, 3, 512)        2048      \n",
      " hNormalization)                                                 \n",
      "                                                                 \n",
      " dropout_4 (Dropout)         (None, 3, 3, 512)         0         \n",
      "                                                                 \n",
      " global_average_pooling2d (G  (None, 512)              0         \n",
      " lobalAveragePooling2D)                                          \n",
      "                                                                 \n",
      " dense (Dense)               (None, 1)                 513       \n",
      "                                                                 \n",
      "=================================================================\n",
      "Total params: 1,577,325\n",
      "Trainable params: 1,575,303\n",
      "Non-trainable params: 2,022\n",
      "_________________________________________________________________\n"
     ]
    }
   ],
   "source": [
    "from tensorflow.keras.layers import Conv2D, MaxPooling2D, GlobalAveragePooling2D\n",
    "from tensorflow.keras.layers import Dropout, Flatten, Dense\n",
    "from tensorflow.keras.models import Sequential\n",
    "from tensorflow.keras.layers import BatchNormalization\n",
    "\"\"\"\n",
    "    Propsoed CNN architecture.\n",
    "    \n",
    "\"\"\"\n",
    "\n",
    "model = Sequential()\n",
    "\n",
    "# Pamameters Initialization\n",
    "input_shape = (224,224,3)\n",
    "activation = 'relu'\n",
    "padding = 'same'\n",
    "droprate = 0.1\n",
    "epsilon = 0.001\n",
    "\n",
    "model = Sequential()\n",
    "model.add(BatchNormalization(input_shape=input_shape))\n",
    "model.add(Conv2D(filters=16, kernel_size=3, activation=activation, padding=padding))\n",
    "model.add(MaxPooling2D(pool_size=2))\n",
    "model.add(BatchNormalization(epsilon=epsilon))\n",
    "\n",
    "\n",
    "model.add(Conv2D(filters=32, kernel_size=3, activation=activation, padding=padding))\n",
    "model.add(MaxPooling2D(pool_size=2))\n",
    "model.add(BatchNormalization(epsilon=epsilon))\n",
    "model.add(Dropout(droprate))\n",
    "\n",
    "model.add(Conv2D(filters=64, kernel_size=3, activation=activation, padding=padding))\n",
    "model.add(MaxPooling2D(pool_size=2))\n",
    "model.add(BatchNormalization(epsilon=epsilon))\n",
    "model.add(Dropout(droprate))\n",
    "\n",
    "model.add(Conv2D(filters =128, kernel_size=3, activation=activation, padding=padding))\n",
    "model.add(MaxPooling2D(pool_size=2))\n",
    "model.add(BatchNormalization(epsilon=epsilon))\n",
    "model.add(Dropout(droprate))\n",
    "\n",
    "model.add(Conv2D(filters=256, kernel_size=3, activation=activation, padding=padding))\n",
    "model.add(MaxPooling2D(pool_size=2))\n",
    "model.add(BatchNormalization(epsilon=epsilon))\n",
    "model.add(Dropout(droprate))\n",
    "\n",
    "model.add(Conv2D(filters=512, kernel_size=3, activation=activation, padding=padding))\n",
    "model.add(MaxPooling2D(pool_size=2))\n",
    "model.add(BatchNormalization(epsilon=epsilon))\n",
    "model.add(Dropout(droprate))\n",
    "\n",
    "model.add(GlobalAveragePooling2D())\n",
    "#model.add(Flatten())\n",
    "#model.add(Dense(256, kernel_initializer='glorot_normal', activation='relu'))\n",
    "#model.add(Dropout(0.5))\n",
    "          \n",
    "#model.add(Dense(128, kernel_initializer='glorot_normal', activation='relu'))\n",
    "#model.add(Dropout(0.5))\n",
    "#model.add(Dropout(droprate))\n",
    "model.add(Dense(1, activation='sigmoid'))\n",
    "\n",
    "model.summary() # Summary of the architecture"
   ]
  },
  {
   "cell_type": "code",
   "execution_count": 11,
   "metadata": {},
   "outputs": [],
   "source": [
    "# Parameters Initialization\n",
    "from tensorflow.keras.optimizers import RMSprop, SGD, Adam, Adadelta\n",
    "\n",
    "#opt = rmsprop(lr=0.0001, decay=1e-6)\n",
    "\n",
    "model.compile(loss='binary_crossentropy',optimizer=Adam(0.0001), metrics=['accuracy'])"
   ]
  },
  {
   "cell_type": "code",
   "execution_count": 13,
   "metadata": {},
   "outputs": [
    {
     "name": "stderr",
     "output_type": "stream",
     "text": [
      "C:\\Users\\Deep\\AppData\\Local\\Temp\\ipykernel_31460\\2735609150.py:3: UserWarning: `Model.fit_generator` is deprecated and will be removed in a future version. Please use `Model.fit`, which supports generators.\n",
      "  history = model.fit_generator(\n"
     ]
    },
    {
     "name": "stdout",
     "output_type": "stream",
     "text": [
      "Epoch 1/20\n",
      "1250/1250 [==============================] - 330s 263ms/step - loss: 0.4832 - accuracy: 0.7678 - val_loss: 0.4612 - val_accuracy: 0.7758\n",
      "Epoch 2/20\n",
      "1250/1250 [==============================] - 309s 247ms/step - loss: 0.4397 - accuracy: 0.7947 - val_loss: 0.4803 - val_accuracy: 0.7837\n",
      "Epoch 3/20\n",
      "1250/1250 [==============================] - 298s 239ms/step - loss: 0.4093 - accuracy: 0.8144 - val_loss: 0.4000 - val_accuracy: 0.8161\n",
      "Epoch 4/20\n",
      "1250/1250 [==============================] - 291s 233ms/step - loss: 0.3737 - accuracy: 0.8329 - val_loss: 0.5129 - val_accuracy: 0.7702\n",
      "Epoch 5/20\n",
      "1250/1250 [==============================] - 286s 229ms/step - loss: 0.3535 - accuracy: 0.8450 - val_loss: 0.3890 - val_accuracy: 0.8279\n",
      "Epoch 6/20\n",
      "1250/1250 [==============================] - 285s 228ms/step - loss: 0.3244 - accuracy: 0.8582 - val_loss: 0.3228 - val_accuracy: 0.8584\n",
      "Epoch 7/20\n",
      "1250/1250 [==============================] - 284s 227ms/step - loss: 0.2999 - accuracy: 0.8709 - val_loss: 0.3562 - val_accuracy: 0.8440\n",
      "Epoch 8/20\n",
      "1250/1250 [==============================] - 281s 225ms/step - loss: 0.2879 - accuracy: 0.8774 - val_loss: 0.3060 - val_accuracy: 0.8714\n",
      "Epoch 9/20\n",
      "1250/1250 [==============================] - 281s 225ms/step - loss: 0.2655 - accuracy: 0.8882 - val_loss: 0.2936 - val_accuracy: 0.8774\n",
      "Epoch 10/20\n",
      "1250/1250 [==============================] - 281s 225ms/step - loss: 0.2513 - accuracy: 0.8960 - val_loss: 0.2132 - val_accuracy: 0.9151\n",
      "Epoch 11/20\n",
      "1250/1250 [==============================] - 279s 223ms/step - loss: 0.2401 - accuracy: 0.8981 - val_loss: 0.2401 - val_accuracy: 0.8984\n",
      "Epoch 12/20\n",
      "1250/1250 [==============================] - 279s 223ms/step - loss: 0.2299 - accuracy: 0.9052 - val_loss: 0.2404 - val_accuracy: 0.9006\n",
      "Epoch 13/20\n",
      "1250/1250 [==============================] - 278s 223ms/step - loss: 0.2184 - accuracy: 0.9111 - val_loss: 0.2553 - val_accuracy: 0.8952\n",
      "Epoch 14/20\n",
      "1250/1250 [==============================] - 280s 224ms/step - loss: 0.2090 - accuracy: 0.9147 - val_loss: 0.3018 - val_accuracy: 0.8688\n",
      "Epoch 15/20\n",
      "1250/1250 [==============================] - 279s 223ms/step - loss: 0.2019 - accuracy: 0.9183 - val_loss: 0.2443 - val_accuracy: 0.8956\n",
      "Epoch 16/20\n",
      "1250/1250 [==============================] - 280s 224ms/step - loss: 0.1878 - accuracy: 0.9229 - val_loss: 0.1704 - val_accuracy: 0.9323\n",
      "Epoch 17/20\n",
      "1250/1250 [==============================] - 279s 223ms/step - loss: 0.1837 - accuracy: 0.9254 - val_loss: 0.2383 - val_accuracy: 0.9079\n",
      "Epoch 18/20\n",
      "1250/1250 [==============================] - 279s 223ms/step - loss: 0.1780 - accuracy: 0.9287 - val_loss: 0.2261 - val_accuracy: 0.9069\n",
      "Epoch 19/20\n",
      "1250/1250 [==============================] - 278s 223ms/step - loss: 0.1768 - accuracy: 0.9302 - val_loss: 0.2779 - val_accuracy: 0.8832\n",
      "Epoch 20/20\n",
      "1250/1250 [==============================] - 279s 223ms/step - loss: 0.1656 - accuracy: 0.9345 - val_loss: 0.1195 - val_accuracy: 0.9549\n"
     ]
    }
   ],
   "source": [
    "train_steps = 40000//batch_size\n",
    "valid_steps = 5000//batch_size\n",
    "history = model.fit_generator(\n",
    "    train_flow,\n",
    "    epochs=20,\n",
    "    steps_per_epoch=train_steps,\n",
    "    validation_data=valid_flow,\n",
    "    validation_steps=valid_steps\n",
    ")\n",
    "model.save(\"./models/Custom_CNN_Model.h5\")"
   ]
  },
  {
   "cell_type": "code",
   "execution_count": 12,
   "metadata": {},
   "outputs": [],
   "source": []
  },
  {
   "cell_type": "code",
   "execution_count": 14,
   "metadata": {},
   "outputs": [
    {
     "name": "stdout",
     "output_type": "stream",
     "text": [
      "20000/20000 [==============================] - 121s 6ms/step\n"
     ]
    }
   ],
   "source": [
    "y_pred = model.predict(test_flow)\n",
    "y_test = test_flow.classes"
   ]
  },
  {
   "cell_type": "code",
   "execution_count": 16,
   "metadata": {},
   "outputs": [],
   "source": [
    "from sklearn import metrics"
   ]
  },
  {
   "cell_type": "code",
   "execution_count": 17,
   "metadata": {},
   "outputs": [
    {
     "name": "stdout",
     "output_type": "stream",
     "text": [
      "ROC AUC Score: 0.9919095450000001\n",
      "AP Score: 0.9914724911124952\n",
      "\n",
      "              precision    recall  f1-score   support\n",
      "\n",
      "           0       0.92      0.98      0.95     10000\n",
      "           1       0.97      0.92      0.94     10000\n",
      "\n",
      "    accuracy                           0.95     20000\n",
      "   macro avg       0.95      0.95      0.95     20000\n",
      "weighted avg       0.95      0.95      0.95     20000\n",
      "\n"
     ]
    }
   ],
   "source": [
    "print(\"ROC AUC Score:\", metrics.roc_auc_score(y_test, y_pred))\n",
    "print(\"AP Score:\", metrics.average_precision_score(y_test, y_pred))\n",
    "print()\n",
    "print(metrics.classification_report(y_test, y_pred > 0.5))"
   ]
  },
  {
   "cell_type": "code",
   "execution_count": null,
   "metadata": {},
   "outputs": [],
   "source": []
  }
 ],
 "metadata": {
  "kernelspec": {
   "display_name": "Python 3 (ipykernel)",
   "language": "python",
   "name": "python3"
  },
  "language_info": {
   "codemirror_mode": {
    "name": "ipython",
    "version": 3
   },
   "file_extension": ".py",
   "mimetype": "text/x-python",
   "name": "python",
   "nbconvert_exporter": "python",
   "pygments_lexer": "ipython3",
   "version": "3.11.5"
  }
 },
 "nbformat": 4,
 "nbformat_minor": 4
}
